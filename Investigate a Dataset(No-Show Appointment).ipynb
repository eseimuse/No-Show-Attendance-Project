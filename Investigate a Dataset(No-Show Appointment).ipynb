{
 "cells": [
  {
   "cell_type": "markdown",
   "metadata": {},
   "source": [
    "\n",
    "# Project: Investigate a Dataset - [No-Show Appointment]\n",
    "\n",
    "## Table of Contents\n",
    "<ul>\n",
    "<li><a href=\"#intro\">Introduction</a></li>\n",
    "<li><a href=\"#wrangling\">Data Wrangling</a></li>\n",
    "<li><a href=\"#eda\">Exploratory Data Analysis</a></li>\n",
    "<li><a href=\"#conclusions\">Conclusions</a></li>\n",
    "</ul>"
   ]
  },
  {
   "cell_type": "markdown",
   "metadata": {},
   "source": [
    "<a id='intro'></a>\n",
    "## Introduction\n",
    "\n",
    "### Dataset Description \n",
    "\n",
    "> In this dataset, we have more than a hundred thousand entries for medical appointment in Brazil.\n",
    "We will focus on the question of whether or not patients showed up for their appointment. We will also focus on the differencies in the features of those who kept to their appointment and how they differ from those who didn't keep to their appointment. \n",
    "Note: In the No-show column of this data, if it says 'No' it means the patient showed up to their appointment, and 'Yes' if they did not show up.\n",
    "\n",
    "### Question(s) for Analysis\n",
    ">What factors are important for us to know in order to predict if a patient will show for their scheduled appointment.\n",
    "\n",
    ">What factors were responsible for patients missing their appointment?"
   ]
  },
  {
   "cell_type": "code",
   "execution_count": 1,
   "metadata": {},
   "outputs": [],
   "source": [
    "#import numpy, pandas, matplotlib and seaborn\n",
    "import numpy as np #\n",
    "import pandas as pd \n",
    "import matplotlib.pyplot as plt\n",
    "import seaborn as sns\n",
    "%matplotlib inline\n"
   ]
  },
  {
   "cell_type": "markdown",
   "metadata": {},
   "source": [
    "<a id='wrangling'></a>\n",
    "## Data Wrangling\n",
    "\n",
    "### General Properties "
   ]
  },
  {
   "cell_type": "code",
   "execution_count": 2,
   "metadata": {},
   "outputs": [],
   "source": [
    "#load dataset\n",
    "df = pd.read_csv('Noshowappointments-kagglev2-may-2016.csv')"
   ]
  },
  {
   "cell_type": "code",
   "execution_count": 3,
   "metadata": {},
   "outputs": [
    {
     "data": {
      "text/html": [
       "<div>\n",
       "<style scoped>\n",
       "    .dataframe tbody tr th:only-of-type {\n",
       "        vertical-align: middle;\n",
       "    }\n",
       "\n",
       "    .dataframe tbody tr th {\n",
       "        vertical-align: top;\n",
       "    }\n",
       "\n",
       "    .dataframe thead th {\n",
       "        text-align: right;\n",
       "    }\n",
       "</style>\n",
       "<table border=\"1\" class=\"dataframe\">\n",
       "  <thead>\n",
       "    <tr style=\"text-align: right;\">\n",
       "      <th></th>\n",
       "      <th>PatientId</th>\n",
       "      <th>AppointmentID</th>\n",
       "      <th>Gender</th>\n",
       "      <th>ScheduledDay</th>\n",
       "      <th>AppointmentDay</th>\n",
       "      <th>Age</th>\n",
       "      <th>Neighbourhood</th>\n",
       "      <th>Scholarship</th>\n",
       "      <th>Hipertension</th>\n",
       "      <th>Diabetes</th>\n",
       "      <th>Alcoholism</th>\n",
       "      <th>Handcap</th>\n",
       "      <th>SMS_received</th>\n",
       "      <th>No-show</th>\n",
       "    </tr>\n",
       "  </thead>\n",
       "  <tbody>\n",
       "    <tr>\n",
       "      <th>0</th>\n",
       "      <td>2.987250e+13</td>\n",
       "      <td>5642903</td>\n",
       "      <td>F</td>\n",
       "      <td>2016-04-29T18:38:08Z</td>\n",
       "      <td>2016-04-29T00:00:00Z</td>\n",
       "      <td>62</td>\n",
       "      <td>JARDIM DA PENHA</td>\n",
       "      <td>0</td>\n",
       "      <td>1</td>\n",
       "      <td>0</td>\n",
       "      <td>0</td>\n",
       "      <td>0</td>\n",
       "      <td>0</td>\n",
       "      <td>No</td>\n",
       "    </tr>\n",
       "    <tr>\n",
       "      <th>1</th>\n",
       "      <td>5.589978e+14</td>\n",
       "      <td>5642503</td>\n",
       "      <td>M</td>\n",
       "      <td>2016-04-29T16:08:27Z</td>\n",
       "      <td>2016-04-29T00:00:00Z</td>\n",
       "      <td>56</td>\n",
       "      <td>JARDIM DA PENHA</td>\n",
       "      <td>0</td>\n",
       "      <td>0</td>\n",
       "      <td>0</td>\n",
       "      <td>0</td>\n",
       "      <td>0</td>\n",
       "      <td>0</td>\n",
       "      <td>No</td>\n",
       "    </tr>\n",
       "    <tr>\n",
       "      <th>2</th>\n",
       "      <td>4.262962e+12</td>\n",
       "      <td>5642549</td>\n",
       "      <td>F</td>\n",
       "      <td>2016-04-29T16:19:04Z</td>\n",
       "      <td>2016-04-29T00:00:00Z</td>\n",
       "      <td>62</td>\n",
       "      <td>MATA DA PRAIA</td>\n",
       "      <td>0</td>\n",
       "      <td>0</td>\n",
       "      <td>0</td>\n",
       "      <td>0</td>\n",
       "      <td>0</td>\n",
       "      <td>0</td>\n",
       "      <td>No</td>\n",
       "    </tr>\n",
       "    <tr>\n",
       "      <th>3</th>\n",
       "      <td>8.679512e+11</td>\n",
       "      <td>5642828</td>\n",
       "      <td>F</td>\n",
       "      <td>2016-04-29T17:29:31Z</td>\n",
       "      <td>2016-04-29T00:00:00Z</td>\n",
       "      <td>8</td>\n",
       "      <td>PONTAL DE CAMBURI</td>\n",
       "      <td>0</td>\n",
       "      <td>0</td>\n",
       "      <td>0</td>\n",
       "      <td>0</td>\n",
       "      <td>0</td>\n",
       "      <td>0</td>\n",
       "      <td>No</td>\n",
       "    </tr>\n",
       "    <tr>\n",
       "      <th>4</th>\n",
       "      <td>8.841186e+12</td>\n",
       "      <td>5642494</td>\n",
       "      <td>F</td>\n",
       "      <td>2016-04-29T16:07:23Z</td>\n",
       "      <td>2016-04-29T00:00:00Z</td>\n",
       "      <td>56</td>\n",
       "      <td>JARDIM DA PENHA</td>\n",
       "      <td>0</td>\n",
       "      <td>1</td>\n",
       "      <td>1</td>\n",
       "      <td>0</td>\n",
       "      <td>0</td>\n",
       "      <td>0</td>\n",
       "      <td>No</td>\n",
       "    </tr>\n",
       "    <tr>\n",
       "      <th>5</th>\n",
       "      <td>9.598513e+13</td>\n",
       "      <td>5626772</td>\n",
       "      <td>F</td>\n",
       "      <td>2016-04-27T08:36:51Z</td>\n",
       "      <td>2016-04-29T00:00:00Z</td>\n",
       "      <td>76</td>\n",
       "      <td>REPÚBLICA</td>\n",
       "      <td>0</td>\n",
       "      <td>1</td>\n",
       "      <td>0</td>\n",
       "      <td>0</td>\n",
       "      <td>0</td>\n",
       "      <td>0</td>\n",
       "      <td>No</td>\n",
       "    </tr>\n",
       "    <tr>\n",
       "      <th>6</th>\n",
       "      <td>7.336882e+14</td>\n",
       "      <td>5630279</td>\n",
       "      <td>F</td>\n",
       "      <td>2016-04-27T15:05:12Z</td>\n",
       "      <td>2016-04-29T00:00:00Z</td>\n",
       "      <td>23</td>\n",
       "      <td>GOIABEIRAS</td>\n",
       "      <td>0</td>\n",
       "      <td>0</td>\n",
       "      <td>0</td>\n",
       "      <td>0</td>\n",
       "      <td>0</td>\n",
       "      <td>0</td>\n",
       "      <td>Yes</td>\n",
       "    </tr>\n",
       "    <tr>\n",
       "      <th>7</th>\n",
       "      <td>3.449833e+12</td>\n",
       "      <td>5630575</td>\n",
       "      <td>F</td>\n",
       "      <td>2016-04-27T15:39:58Z</td>\n",
       "      <td>2016-04-29T00:00:00Z</td>\n",
       "      <td>39</td>\n",
       "      <td>GOIABEIRAS</td>\n",
       "      <td>0</td>\n",
       "      <td>0</td>\n",
       "      <td>0</td>\n",
       "      <td>0</td>\n",
       "      <td>0</td>\n",
       "      <td>0</td>\n",
       "      <td>Yes</td>\n",
       "    </tr>\n",
       "    <tr>\n",
       "      <th>8</th>\n",
       "      <td>5.639473e+13</td>\n",
       "      <td>5638447</td>\n",
       "      <td>F</td>\n",
       "      <td>2016-04-29T08:02:16Z</td>\n",
       "      <td>2016-04-29T00:00:00Z</td>\n",
       "      <td>21</td>\n",
       "      <td>ANDORINHAS</td>\n",
       "      <td>0</td>\n",
       "      <td>0</td>\n",
       "      <td>0</td>\n",
       "      <td>0</td>\n",
       "      <td>0</td>\n",
       "      <td>0</td>\n",
       "      <td>No</td>\n",
       "    </tr>\n",
       "    <tr>\n",
       "      <th>9</th>\n",
       "      <td>7.812456e+13</td>\n",
       "      <td>5629123</td>\n",
       "      <td>F</td>\n",
       "      <td>2016-04-27T12:48:25Z</td>\n",
       "      <td>2016-04-29T00:00:00Z</td>\n",
       "      <td>19</td>\n",
       "      <td>CONQUISTA</td>\n",
       "      <td>0</td>\n",
       "      <td>0</td>\n",
       "      <td>0</td>\n",
       "      <td>0</td>\n",
       "      <td>0</td>\n",
       "      <td>0</td>\n",
       "      <td>No</td>\n",
       "    </tr>\n",
       "  </tbody>\n",
       "</table>\n",
       "</div>"
      ],
      "text/plain": [
       "      PatientId  AppointmentID Gender          ScheduledDay  \\\n",
       "0  2.987250e+13        5642903      F  2016-04-29T18:38:08Z   \n",
       "1  5.589978e+14        5642503      M  2016-04-29T16:08:27Z   \n",
       "2  4.262962e+12        5642549      F  2016-04-29T16:19:04Z   \n",
       "3  8.679512e+11        5642828      F  2016-04-29T17:29:31Z   \n",
       "4  8.841186e+12        5642494      F  2016-04-29T16:07:23Z   \n",
       "5  9.598513e+13        5626772      F  2016-04-27T08:36:51Z   \n",
       "6  7.336882e+14        5630279      F  2016-04-27T15:05:12Z   \n",
       "7  3.449833e+12        5630575      F  2016-04-27T15:39:58Z   \n",
       "8  5.639473e+13        5638447      F  2016-04-29T08:02:16Z   \n",
       "9  7.812456e+13        5629123      F  2016-04-27T12:48:25Z   \n",
       "\n",
       "         AppointmentDay  Age      Neighbourhood  Scholarship  Hipertension  \\\n",
       "0  2016-04-29T00:00:00Z   62    JARDIM DA PENHA            0             1   \n",
       "1  2016-04-29T00:00:00Z   56    JARDIM DA PENHA            0             0   \n",
       "2  2016-04-29T00:00:00Z   62      MATA DA PRAIA            0             0   \n",
       "3  2016-04-29T00:00:00Z    8  PONTAL DE CAMBURI            0             0   \n",
       "4  2016-04-29T00:00:00Z   56    JARDIM DA PENHA            0             1   \n",
       "5  2016-04-29T00:00:00Z   76          REPÚBLICA            0             1   \n",
       "6  2016-04-29T00:00:00Z   23         GOIABEIRAS            0             0   \n",
       "7  2016-04-29T00:00:00Z   39         GOIABEIRAS            0             0   \n",
       "8  2016-04-29T00:00:00Z   21         ANDORINHAS            0             0   \n",
       "9  2016-04-29T00:00:00Z   19          CONQUISTA            0             0   \n",
       "\n",
       "   Diabetes  Alcoholism  Handcap  SMS_received No-show  \n",
       "0         0           0        0             0      No  \n",
       "1         0           0        0             0      No  \n",
       "2         0           0        0             0      No  \n",
       "3         0           0        0             0      No  \n",
       "4         1           0        0             0      No  \n",
       "5         0           0        0             0      No  \n",
       "6         0           0        0             0     Yes  \n",
       "7         0           0        0             0     Yes  \n",
       "8         0           0        0             0      No  \n",
       "9         0           0        0             0      No  "
      ]
     },
     "execution_count": 3,
     "metadata": {},
     "output_type": "execute_result"
    }
   ],
   "source": [
    "# Load the data and print out a few lines. \n",
    "df.head(10) "
   ]
  },
  {
   "cell_type": "code",
   "execution_count": 4,
   "metadata": {
    "scrolled": false
   },
   "outputs": [
    {
     "data": {
      "text/plain": [
       "(110527, 14)"
      ]
     },
     "execution_count": 4,
     "metadata": {},
     "output_type": "execute_result"
    }
   ],
   "source": [
    "#Let us take a look at the shape of our dataset\n",
    "df.shape"
   ]
  },
  {
   "cell_type": "markdown",
   "metadata": {},
   "source": [
    "*This shows us that there were 110527 rows which indicates enteries or patient appointments and 14 columns which indicates the different features."
   ]
  },
  {
   "cell_type": "code",
   "execution_count": 5,
   "metadata": {
    "scrolled": true
   },
   "outputs": [
    {
     "name": "stdout",
     "output_type": "stream",
     "text": [
      "<class 'pandas.core.frame.DataFrame'>\n",
      "RangeIndex: 110527 entries, 0 to 110526\n",
      "Data columns (total 14 columns):\n",
      " #   Column          Non-Null Count   Dtype  \n",
      "---  ------          --------------   -----  \n",
      " 0   PatientId       110527 non-null  float64\n",
      " 1   AppointmentID   110527 non-null  int64  \n",
      " 2   Gender          110527 non-null  object \n",
      " 3   ScheduledDay    110527 non-null  object \n",
      " 4   AppointmentDay  110527 non-null  object \n",
      " 5   Age             110527 non-null  int64  \n",
      " 6   Neighbourhood   110527 non-null  object \n",
      " 7   Scholarship     110527 non-null  int64  \n",
      " 8   Hipertension    110527 non-null  int64  \n",
      " 9   Diabetes        110527 non-null  int64  \n",
      " 10  Alcoholism      110527 non-null  int64  \n",
      " 11  Handcap         110527 non-null  int64  \n",
      " 12  SMS_received    110527 non-null  int64  \n",
      " 13  No-show         110527 non-null  object \n",
      "dtypes: float64(1), int64(8), object(5)\n",
      "memory usage: 11.8+ MB\n"
     ]
    }
   ],
   "source": [
    "#We will also take a look at the information of the columns in the dataset\n",
    "df.info()"
   ]
  },
  {
   "cell_type": "code",
   "execution_count": 6,
   "metadata": {
    "scrolled": false
   },
   "outputs": [
    {
     "data": {
      "text/html": [
       "<div>\n",
       "<style scoped>\n",
       "    .dataframe tbody tr th:only-of-type {\n",
       "        vertical-align: middle;\n",
       "    }\n",
       "\n",
       "    .dataframe tbody tr th {\n",
       "        vertical-align: top;\n",
       "    }\n",
       "\n",
       "    .dataframe thead th {\n",
       "        text-align: right;\n",
       "    }\n",
       "</style>\n",
       "<table border=\"1\" class=\"dataframe\">\n",
       "  <thead>\n",
       "    <tr style=\"text-align: right;\">\n",
       "      <th></th>\n",
       "      <th>PatientId</th>\n",
       "      <th>AppointmentID</th>\n",
       "      <th>Age</th>\n",
       "      <th>Scholarship</th>\n",
       "      <th>Hipertension</th>\n",
       "      <th>Diabetes</th>\n",
       "      <th>Alcoholism</th>\n",
       "      <th>Handcap</th>\n",
       "      <th>SMS_received</th>\n",
       "    </tr>\n",
       "  </thead>\n",
       "  <tbody>\n",
       "    <tr>\n",
       "      <th>count</th>\n",
       "      <td>1.105270e+05</td>\n",
       "      <td>1.105270e+05</td>\n",
       "      <td>110527.000000</td>\n",
       "      <td>110527.000000</td>\n",
       "      <td>110527.000000</td>\n",
       "      <td>110527.000000</td>\n",
       "      <td>110527.000000</td>\n",
       "      <td>110527.000000</td>\n",
       "      <td>110527.000000</td>\n",
       "    </tr>\n",
       "    <tr>\n",
       "      <th>mean</th>\n",
       "      <td>1.474963e+14</td>\n",
       "      <td>5.675305e+06</td>\n",
       "      <td>37.088874</td>\n",
       "      <td>0.098266</td>\n",
       "      <td>0.197246</td>\n",
       "      <td>0.071865</td>\n",
       "      <td>0.030400</td>\n",
       "      <td>0.022248</td>\n",
       "      <td>0.321026</td>\n",
       "    </tr>\n",
       "    <tr>\n",
       "      <th>std</th>\n",
       "      <td>2.560949e+14</td>\n",
       "      <td>7.129575e+04</td>\n",
       "      <td>23.110205</td>\n",
       "      <td>0.297675</td>\n",
       "      <td>0.397921</td>\n",
       "      <td>0.258265</td>\n",
       "      <td>0.171686</td>\n",
       "      <td>0.161543</td>\n",
       "      <td>0.466873</td>\n",
       "    </tr>\n",
       "    <tr>\n",
       "      <th>min</th>\n",
       "      <td>3.921784e+04</td>\n",
       "      <td>5.030230e+06</td>\n",
       "      <td>-1.000000</td>\n",
       "      <td>0.000000</td>\n",
       "      <td>0.000000</td>\n",
       "      <td>0.000000</td>\n",
       "      <td>0.000000</td>\n",
       "      <td>0.000000</td>\n",
       "      <td>0.000000</td>\n",
       "    </tr>\n",
       "    <tr>\n",
       "      <th>25%</th>\n",
       "      <td>4.172614e+12</td>\n",
       "      <td>5.640286e+06</td>\n",
       "      <td>18.000000</td>\n",
       "      <td>0.000000</td>\n",
       "      <td>0.000000</td>\n",
       "      <td>0.000000</td>\n",
       "      <td>0.000000</td>\n",
       "      <td>0.000000</td>\n",
       "      <td>0.000000</td>\n",
       "    </tr>\n",
       "    <tr>\n",
       "      <th>50%</th>\n",
       "      <td>3.173184e+13</td>\n",
       "      <td>5.680573e+06</td>\n",
       "      <td>37.000000</td>\n",
       "      <td>0.000000</td>\n",
       "      <td>0.000000</td>\n",
       "      <td>0.000000</td>\n",
       "      <td>0.000000</td>\n",
       "      <td>0.000000</td>\n",
       "      <td>0.000000</td>\n",
       "    </tr>\n",
       "    <tr>\n",
       "      <th>75%</th>\n",
       "      <td>9.439172e+13</td>\n",
       "      <td>5.725524e+06</td>\n",
       "      <td>55.000000</td>\n",
       "      <td>0.000000</td>\n",
       "      <td>0.000000</td>\n",
       "      <td>0.000000</td>\n",
       "      <td>0.000000</td>\n",
       "      <td>0.000000</td>\n",
       "      <td>1.000000</td>\n",
       "    </tr>\n",
       "    <tr>\n",
       "      <th>max</th>\n",
       "      <td>9.999816e+14</td>\n",
       "      <td>5.790484e+06</td>\n",
       "      <td>115.000000</td>\n",
       "      <td>1.000000</td>\n",
       "      <td>1.000000</td>\n",
       "      <td>1.000000</td>\n",
       "      <td>1.000000</td>\n",
       "      <td>4.000000</td>\n",
       "      <td>1.000000</td>\n",
       "    </tr>\n",
       "  </tbody>\n",
       "</table>\n",
       "</div>"
      ],
      "text/plain": [
       "          PatientId  AppointmentID            Age    Scholarship  \\\n",
       "count  1.105270e+05   1.105270e+05  110527.000000  110527.000000   \n",
       "mean   1.474963e+14   5.675305e+06      37.088874       0.098266   \n",
       "std    2.560949e+14   7.129575e+04      23.110205       0.297675   \n",
       "min    3.921784e+04   5.030230e+06      -1.000000       0.000000   \n",
       "25%    4.172614e+12   5.640286e+06      18.000000       0.000000   \n",
       "50%    3.173184e+13   5.680573e+06      37.000000       0.000000   \n",
       "75%    9.439172e+13   5.725524e+06      55.000000       0.000000   \n",
       "max    9.999816e+14   5.790484e+06     115.000000       1.000000   \n",
       "\n",
       "        Hipertension       Diabetes     Alcoholism        Handcap  \\\n",
       "count  110527.000000  110527.000000  110527.000000  110527.000000   \n",
       "mean        0.197246       0.071865       0.030400       0.022248   \n",
       "std         0.397921       0.258265       0.171686       0.161543   \n",
       "min         0.000000       0.000000       0.000000       0.000000   \n",
       "25%         0.000000       0.000000       0.000000       0.000000   \n",
       "50%         0.000000       0.000000       0.000000       0.000000   \n",
       "75%         0.000000       0.000000       0.000000       0.000000   \n",
       "max         1.000000       1.000000       1.000000       4.000000   \n",
       "\n",
       "        SMS_received  \n",
       "count  110527.000000  \n",
       "mean        0.321026  \n",
       "std         0.466873  \n",
       "min         0.000000  \n",
       "25%         0.000000  \n",
       "50%         0.000000  \n",
       "75%         1.000000  \n",
       "max         1.000000  "
      ]
     },
     "execution_count": 6,
     "metadata": {},
     "output_type": "execute_result"
    }
   ],
   "source": [
    "#Then we will glance at information contained in each cell\n",
    "df.describe()"
   ]
  },
  {
   "cell_type": "markdown",
   "metadata": {},
   "source": [
    "*This shows us the various floats and integers characters, we can see from here that we have a minimum value of -1 for age which is abnormal."
   ]
  },
  {
   "cell_type": "code",
   "execution_count": 7,
   "metadata": {
    "scrolled": true
   },
   "outputs": [
    {
     "data": {
      "text/plain": [
       "PatientId          62299\n",
       "AppointmentID     110527\n",
       "Gender                 2\n",
       "ScheduledDay      103549\n",
       "AppointmentDay        27\n",
       "Age                  104\n",
       "Neighbourhood         81\n",
       "Scholarship            2\n",
       "Hipertension           2\n",
       "Diabetes               2\n",
       "Alcoholism             2\n",
       "Handcap                5\n",
       "SMS_received           2\n",
       "No-show                2\n",
       "dtype: int64"
      ]
     },
     "execution_count": 7,
     "metadata": {},
     "output_type": "execute_result"
    }
   ],
   "source": [
    "#Let us check for unique values\n",
    "df.nunique()"
   ]
  },
  {
   "cell_type": "markdown",
   "metadata": {},
   "source": [
    "*From this output we can see that the PatientId was 62299 while the AppointmentID was 110527 enteries indicating the Patients had one or more appointments.*\n",
    "*Some of the features are misspelt like Hipertension, Handcap etc*\n",
    "*There are 81 neighbourhoods in this enteries.**"
   ]
  },
  {
   "cell_type": "code",
   "execution_count": 8,
   "metadata": {},
   "outputs": [
    {
     "data": {
      "text/plain": [
       "PatientId         0\n",
       "AppointmentID     0\n",
       "Gender            0\n",
       "ScheduledDay      0\n",
       "AppointmentDay    0\n",
       "Age               0\n",
       "Neighbourhood     0\n",
       "Scholarship       0\n",
       "Hipertension      0\n",
       "Diabetes          0\n",
       "Alcoholism        0\n",
       "Handcap           0\n",
       "SMS_received      0\n",
       "No-show           0\n",
       "dtype: int64"
      ]
     },
     "execution_count": 8,
     "metadata": {},
     "output_type": "execute_result"
    }
   ],
   "source": [
    "#Check for null values\n",
    "df.isnull().sum()"
   ]
  },
  {
   "cell_type": "markdown",
   "metadata": {},
   "source": [
    "*There are no null values in this dataset.*"
   ]
  },
  {
   "cell_type": "markdown",
   "metadata": {},
   "source": [
    "In this dataset we have the following:\n",
    "\n",
    "    1) 110527 rows or enteries and 14 columns or features.\n",
    "\n",
    "    2) The PatientId had unique values which means that some patients had more than one visits.\n",
    "    \n",
    "    3) Some of the column names were wrongly spelt and will be renamed during the cleaning stage.\n",
    "    \n",
    "    4) The 'Age' column had a minimum value of -1 which is not normal and this row(s) will be dropped during the cleaning of this dataset.\n",
    "    \n",
    "    5) 'No-show' column as stated earlier had \"Yes\" and \"No\" values, \"Yes\" representing those who did not show up for their appointment and \"No\" for those who showed up for their appointment.\n",
    "    \n",
    "    6) 'No-show' will be the dependent variable for this analysis and I will be picking four other features as the independent variables for this analysis and they include ('Age', 'Gender', 'Hypertension', 'Diabetes', 'Alcoholism','Scholarship' (Bolsa Familia Program) and 'SMS_received'), the others will be dropped.\n",
    "    "
   ]
  },
  {
   "cell_type": "markdown",
   "metadata": {},
   "source": [
    "\n",
    "### Data Cleaning "
   ]
  },
  {
   "cell_type": "code",
   "execution_count": 9,
   "metadata": {},
   "outputs": [],
   "source": [
    "df.rename(columns={'Hipertension':'Hypertension'}, inplace=True)\n",
    "df.rename(columns={'Handcap':'Handicap'}, inplace=True)\n",
    "#Some columns need to be renamed so as to pass on the right message to the viewer"
   ]
  },
  {
   "cell_type": "code",
   "execution_count": 10,
   "metadata": {},
   "outputs": [
    {
     "data": {
      "text/html": [
       "<div>\n",
       "<style scoped>\n",
       "    .dataframe tbody tr th:only-of-type {\n",
       "        vertical-align: middle;\n",
       "    }\n",
       "\n",
       "    .dataframe tbody tr th {\n",
       "        vertical-align: top;\n",
       "    }\n",
       "\n",
       "    .dataframe thead th {\n",
       "        text-align: right;\n",
       "    }\n",
       "</style>\n",
       "<table border=\"1\" class=\"dataframe\">\n",
       "  <thead>\n",
       "    <tr style=\"text-align: right;\">\n",
       "      <th></th>\n",
       "      <th>PatientId</th>\n",
       "      <th>AppointmentID</th>\n",
       "      <th>Gender</th>\n",
       "      <th>ScheduledDay</th>\n",
       "      <th>AppointmentDay</th>\n",
       "      <th>Age</th>\n",
       "      <th>Neighbourhood</th>\n",
       "      <th>Scholarship</th>\n",
       "      <th>Hypertension</th>\n",
       "      <th>Diabetes</th>\n",
       "      <th>Alcoholism</th>\n",
       "      <th>Handicap</th>\n",
       "      <th>SMS_received</th>\n",
       "      <th>No-show</th>\n",
       "    </tr>\n",
       "  </thead>\n",
       "  <tbody>\n",
       "    <tr>\n",
       "      <th>0</th>\n",
       "      <td>2.987250e+13</td>\n",
       "      <td>5642903</td>\n",
       "      <td>F</td>\n",
       "      <td>2016-04-29T18:38:08Z</td>\n",
       "      <td>2016-04-29T00:00:00Z</td>\n",
       "      <td>62</td>\n",
       "      <td>JARDIM DA PENHA</td>\n",
       "      <td>0</td>\n",
       "      <td>1</td>\n",
       "      <td>0</td>\n",
       "      <td>0</td>\n",
       "      <td>0</td>\n",
       "      <td>0</td>\n",
       "      <td>No</td>\n",
       "    </tr>\n",
       "    <tr>\n",
       "      <th>1</th>\n",
       "      <td>5.589978e+14</td>\n",
       "      <td>5642503</td>\n",
       "      <td>M</td>\n",
       "      <td>2016-04-29T16:08:27Z</td>\n",
       "      <td>2016-04-29T00:00:00Z</td>\n",
       "      <td>56</td>\n",
       "      <td>JARDIM DA PENHA</td>\n",
       "      <td>0</td>\n",
       "      <td>0</td>\n",
       "      <td>0</td>\n",
       "      <td>0</td>\n",
       "      <td>0</td>\n",
       "      <td>0</td>\n",
       "      <td>No</td>\n",
       "    </tr>\n",
       "    <tr>\n",
       "      <th>2</th>\n",
       "      <td>4.262962e+12</td>\n",
       "      <td>5642549</td>\n",
       "      <td>F</td>\n",
       "      <td>2016-04-29T16:19:04Z</td>\n",
       "      <td>2016-04-29T00:00:00Z</td>\n",
       "      <td>62</td>\n",
       "      <td>MATA DA PRAIA</td>\n",
       "      <td>0</td>\n",
       "      <td>0</td>\n",
       "      <td>0</td>\n",
       "      <td>0</td>\n",
       "      <td>0</td>\n",
       "      <td>0</td>\n",
       "      <td>No</td>\n",
       "    </tr>\n",
       "    <tr>\n",
       "      <th>3</th>\n",
       "      <td>8.679512e+11</td>\n",
       "      <td>5642828</td>\n",
       "      <td>F</td>\n",
       "      <td>2016-04-29T17:29:31Z</td>\n",
       "      <td>2016-04-29T00:00:00Z</td>\n",
       "      <td>8</td>\n",
       "      <td>PONTAL DE CAMBURI</td>\n",
       "      <td>0</td>\n",
       "      <td>0</td>\n",
       "      <td>0</td>\n",
       "      <td>0</td>\n",
       "      <td>0</td>\n",
       "      <td>0</td>\n",
       "      <td>No</td>\n",
       "    </tr>\n",
       "    <tr>\n",
       "      <th>4</th>\n",
       "      <td>8.841186e+12</td>\n",
       "      <td>5642494</td>\n",
       "      <td>F</td>\n",
       "      <td>2016-04-29T16:07:23Z</td>\n",
       "      <td>2016-04-29T00:00:00Z</td>\n",
       "      <td>56</td>\n",
       "      <td>JARDIM DA PENHA</td>\n",
       "      <td>0</td>\n",
       "      <td>1</td>\n",
       "      <td>1</td>\n",
       "      <td>0</td>\n",
       "      <td>0</td>\n",
       "      <td>0</td>\n",
       "      <td>No</td>\n",
       "    </tr>\n",
       "  </tbody>\n",
       "</table>\n",
       "</div>"
      ],
      "text/plain": [
       "      PatientId  AppointmentID Gender          ScheduledDay  \\\n",
       "0  2.987250e+13        5642903      F  2016-04-29T18:38:08Z   \n",
       "1  5.589978e+14        5642503      M  2016-04-29T16:08:27Z   \n",
       "2  4.262962e+12        5642549      F  2016-04-29T16:19:04Z   \n",
       "3  8.679512e+11        5642828      F  2016-04-29T17:29:31Z   \n",
       "4  8.841186e+12        5642494      F  2016-04-29T16:07:23Z   \n",
       "\n",
       "         AppointmentDay  Age      Neighbourhood  Scholarship  Hypertension  \\\n",
       "0  2016-04-29T00:00:00Z   62    JARDIM DA PENHA            0             1   \n",
       "1  2016-04-29T00:00:00Z   56    JARDIM DA PENHA            0             0   \n",
       "2  2016-04-29T00:00:00Z   62      MATA DA PRAIA            0             0   \n",
       "3  2016-04-29T00:00:00Z    8  PONTAL DE CAMBURI            0             0   \n",
       "4  2016-04-29T00:00:00Z   56    JARDIM DA PENHA            0             1   \n",
       "\n",
       "   Diabetes  Alcoholism  Handicap  SMS_received No-show  \n",
       "0         0           0         0             0      No  \n",
       "1         0           0         0             0      No  \n",
       "2         0           0         0             0      No  \n",
       "3         0           0         0             0      No  \n",
       "4         1           0         0             0      No  "
      ]
     },
     "execution_count": 10,
     "metadata": {},
     "output_type": "execute_result"
    }
   ],
   "source": [
    "df.head()\n",
    "#Check to see if the errors in the names were corrected."
   ]
  },
  {
   "cell_type": "code",
   "execution_count": 11,
   "metadata": {},
   "outputs": [],
   "source": [
    "#Drop columns that will not be used analysis in this work.\n",
    "df.drop(['PatientId', 'Neighbourhood', 'AppointmentID', 'ScheduledDay', 'AppointmentDay', 'Handicap'], axis=1, inplace=True)"
   ]
  },
  {
   "cell_type": "code",
   "execution_count": 12,
   "metadata": {},
   "outputs": [
    {
     "data": {
      "text/html": [
       "<div>\n",
       "<style scoped>\n",
       "    .dataframe tbody tr th:only-of-type {\n",
       "        vertical-align: middle;\n",
       "    }\n",
       "\n",
       "    .dataframe tbody tr th {\n",
       "        vertical-align: top;\n",
       "    }\n",
       "\n",
       "    .dataframe thead th {\n",
       "        text-align: right;\n",
       "    }\n",
       "</style>\n",
       "<table border=\"1\" class=\"dataframe\">\n",
       "  <thead>\n",
       "    <tr style=\"text-align: right;\">\n",
       "      <th></th>\n",
       "      <th>Gender</th>\n",
       "      <th>Age</th>\n",
       "      <th>Scholarship</th>\n",
       "      <th>Hypertension</th>\n",
       "      <th>Diabetes</th>\n",
       "      <th>Alcoholism</th>\n",
       "      <th>SMS_received</th>\n",
       "      <th>No-show</th>\n",
       "    </tr>\n",
       "  </thead>\n",
       "  <tbody>\n",
       "    <tr>\n",
       "      <th>0</th>\n",
       "      <td>F</td>\n",
       "      <td>62</td>\n",
       "      <td>0</td>\n",
       "      <td>1</td>\n",
       "      <td>0</td>\n",
       "      <td>0</td>\n",
       "      <td>0</td>\n",
       "      <td>No</td>\n",
       "    </tr>\n",
       "    <tr>\n",
       "      <th>1</th>\n",
       "      <td>M</td>\n",
       "      <td>56</td>\n",
       "      <td>0</td>\n",
       "      <td>0</td>\n",
       "      <td>0</td>\n",
       "      <td>0</td>\n",
       "      <td>0</td>\n",
       "      <td>No</td>\n",
       "    </tr>\n",
       "    <tr>\n",
       "      <th>2</th>\n",
       "      <td>F</td>\n",
       "      <td>62</td>\n",
       "      <td>0</td>\n",
       "      <td>0</td>\n",
       "      <td>0</td>\n",
       "      <td>0</td>\n",
       "      <td>0</td>\n",
       "      <td>No</td>\n",
       "    </tr>\n",
       "    <tr>\n",
       "      <th>3</th>\n",
       "      <td>F</td>\n",
       "      <td>8</td>\n",
       "      <td>0</td>\n",
       "      <td>0</td>\n",
       "      <td>0</td>\n",
       "      <td>0</td>\n",
       "      <td>0</td>\n",
       "      <td>No</td>\n",
       "    </tr>\n",
       "    <tr>\n",
       "      <th>4</th>\n",
       "      <td>F</td>\n",
       "      <td>56</td>\n",
       "      <td>0</td>\n",
       "      <td>1</td>\n",
       "      <td>1</td>\n",
       "      <td>0</td>\n",
       "      <td>0</td>\n",
       "      <td>No</td>\n",
       "    </tr>\n",
       "  </tbody>\n",
       "</table>\n",
       "</div>"
      ],
      "text/plain": [
       "  Gender  Age  Scholarship  Hypertension  Diabetes  Alcoholism  SMS_received  \\\n",
       "0      F   62            0             1         0           0             0   \n",
       "1      M   56            0             0         0           0             0   \n",
       "2      F   62            0             0         0           0             0   \n",
       "3      F    8            0             0         0           0             0   \n",
       "4      F   56            0             1         1           0             0   \n",
       "\n",
       "  No-show  \n",
       "0      No  \n",
       "1      No  \n",
       "2      No  \n",
       "3      No  \n",
       "4      No  "
      ]
     },
     "execution_count": 12,
     "metadata": {},
     "output_type": "execute_result"
    }
   ],
   "source": [
    "#Check again to see if cells were dropped.\n",
    "df.head()"
   ]
  },
  {
   "cell_type": "markdown",
   "metadata": {},
   "source": [
    "*Columns that will not be used for this analysis are dropped as we are required to have one dependent variable and a minimum of three independent variables."
   ]
  },
  {
   "cell_type": "code",
   "execution_count": 13,
   "metadata": {},
   "outputs": [
    {
     "data": {
      "text/html": [
       "<div>\n",
       "<style scoped>\n",
       "    .dataframe tbody tr th:only-of-type {\n",
       "        vertical-align: middle;\n",
       "    }\n",
       "\n",
       "    .dataframe tbody tr th {\n",
       "        vertical-align: top;\n",
       "    }\n",
       "\n",
       "    .dataframe thead th {\n",
       "        text-align: right;\n",
       "    }\n",
       "</style>\n",
       "<table border=\"1\" class=\"dataframe\">\n",
       "  <thead>\n",
       "    <tr style=\"text-align: right;\">\n",
       "      <th></th>\n",
       "      <th>Gender</th>\n",
       "      <th>Age</th>\n",
       "      <th>Scholarship</th>\n",
       "      <th>Hypertension</th>\n",
       "      <th>Diabetes</th>\n",
       "      <th>Alcoholism</th>\n",
       "      <th>SMS_received</th>\n",
       "      <th>No-show</th>\n",
       "    </tr>\n",
       "  </thead>\n",
       "  <tbody>\n",
       "    <tr>\n",
       "      <th>99832</th>\n",
       "      <td>F</td>\n",
       "      <td>-1</td>\n",
       "      <td>0</td>\n",
       "      <td>0</td>\n",
       "      <td>0</td>\n",
       "      <td>0</td>\n",
       "      <td>0</td>\n",
       "      <td>No</td>\n",
       "    </tr>\n",
       "  </tbody>\n",
       "</table>\n",
       "</div>"
      ],
      "text/plain": [
       "      Gender  Age  Scholarship  Hypertension  Diabetes  Alcoholism  \\\n",
       "99832      F   -1            0             0         0           0   \n",
       "\n",
       "       SMS_received No-show  \n",
       "99832             0      No  "
      ]
     },
     "execution_count": 13,
     "metadata": {},
     "output_type": "execute_result"
    }
   ],
   "source": [
    "#Discard the ages below zero\n",
    "df[df[\"Age\"] == -1]"
   ]
  },
  {
   "cell_type": "markdown",
   "metadata": {},
   "source": [
    "*In the column with Age, the minimum value was -1 which is not true as one cannot have age of -1, therefore the row with the age of -1 will be deleted the entire dataset"
   ]
  },
  {
   "cell_type": "code",
   "execution_count": 14,
   "metadata": {},
   "outputs": [
    {
     "data": {
      "text/html": [
       "<div>\n",
       "<style scoped>\n",
       "    .dataframe tbody tr th:only-of-type {\n",
       "        vertical-align: middle;\n",
       "    }\n",
       "\n",
       "    .dataframe tbody tr th {\n",
       "        vertical-align: top;\n",
       "    }\n",
       "\n",
       "    .dataframe thead th {\n",
       "        text-align: right;\n",
       "    }\n",
       "</style>\n",
       "<table border=\"1\" class=\"dataframe\">\n",
       "  <thead>\n",
       "    <tr style=\"text-align: right;\">\n",
       "      <th></th>\n",
       "      <th>Age</th>\n",
       "      <th>Scholarship</th>\n",
       "      <th>Hypertension</th>\n",
       "      <th>Diabetes</th>\n",
       "      <th>Alcoholism</th>\n",
       "      <th>SMS_received</th>\n",
       "    </tr>\n",
       "  </thead>\n",
       "  <tbody>\n",
       "    <tr>\n",
       "      <th>count</th>\n",
       "      <td>110526.000000</td>\n",
       "      <td>110526.000000</td>\n",
       "      <td>110526.000000</td>\n",
       "      <td>110526.000000</td>\n",
       "      <td>110526.000000</td>\n",
       "      <td>110526.000000</td>\n",
       "    </tr>\n",
       "    <tr>\n",
       "      <th>mean</th>\n",
       "      <td>37.089219</td>\n",
       "      <td>0.098266</td>\n",
       "      <td>0.197248</td>\n",
       "      <td>0.071865</td>\n",
       "      <td>0.030400</td>\n",
       "      <td>0.321029</td>\n",
       "    </tr>\n",
       "    <tr>\n",
       "      <th>std</th>\n",
       "      <td>23.110026</td>\n",
       "      <td>0.297676</td>\n",
       "      <td>0.397923</td>\n",
       "      <td>0.258266</td>\n",
       "      <td>0.171686</td>\n",
       "      <td>0.466874</td>\n",
       "    </tr>\n",
       "    <tr>\n",
       "      <th>min</th>\n",
       "      <td>0.000000</td>\n",
       "      <td>0.000000</td>\n",
       "      <td>0.000000</td>\n",
       "      <td>0.000000</td>\n",
       "      <td>0.000000</td>\n",
       "      <td>0.000000</td>\n",
       "    </tr>\n",
       "    <tr>\n",
       "      <th>25%</th>\n",
       "      <td>18.000000</td>\n",
       "      <td>0.000000</td>\n",
       "      <td>0.000000</td>\n",
       "      <td>0.000000</td>\n",
       "      <td>0.000000</td>\n",
       "      <td>0.000000</td>\n",
       "    </tr>\n",
       "    <tr>\n",
       "      <th>50%</th>\n",
       "      <td>37.000000</td>\n",
       "      <td>0.000000</td>\n",
       "      <td>0.000000</td>\n",
       "      <td>0.000000</td>\n",
       "      <td>0.000000</td>\n",
       "      <td>0.000000</td>\n",
       "    </tr>\n",
       "    <tr>\n",
       "      <th>75%</th>\n",
       "      <td>55.000000</td>\n",
       "      <td>0.000000</td>\n",
       "      <td>0.000000</td>\n",
       "      <td>0.000000</td>\n",
       "      <td>0.000000</td>\n",
       "      <td>1.000000</td>\n",
       "    </tr>\n",
       "    <tr>\n",
       "      <th>max</th>\n",
       "      <td>115.000000</td>\n",
       "      <td>1.000000</td>\n",
       "      <td>1.000000</td>\n",
       "      <td>1.000000</td>\n",
       "      <td>1.000000</td>\n",
       "      <td>1.000000</td>\n",
       "    </tr>\n",
       "  </tbody>\n",
       "</table>\n",
       "</div>"
      ],
      "text/plain": [
       "                 Age    Scholarship   Hypertension       Diabetes  \\\n",
       "count  110526.000000  110526.000000  110526.000000  110526.000000   \n",
       "mean       37.089219       0.098266       0.197248       0.071865   \n",
       "std        23.110026       0.297676       0.397923       0.258266   \n",
       "min         0.000000       0.000000       0.000000       0.000000   \n",
       "25%        18.000000       0.000000       0.000000       0.000000   \n",
       "50%        37.000000       0.000000       0.000000       0.000000   \n",
       "75%        55.000000       0.000000       0.000000       0.000000   \n",
       "max       115.000000       1.000000       1.000000       1.000000   \n",
       "\n",
       "          Alcoholism   SMS_received  \n",
       "count  110526.000000  110526.000000  \n",
       "mean        0.030400       0.321029  \n",
       "std         0.171686       0.466874  \n",
       "min         0.000000       0.000000  \n",
       "25%         0.000000       0.000000  \n",
       "50%         0.000000       0.000000  \n",
       "75%         0.000000       1.000000  \n",
       "max         1.000000       1.000000  "
      ]
     },
     "execution_count": 14,
     "metadata": {},
     "output_type": "execute_result"
    }
   ],
   "source": [
    "#Drop row with age of -1\n",
    "df.drop(index=df[df[\"Age\"]==-1].index, inplace=True)\n",
    "#Check if the row with age of -1 is removed\n",
    "df.describe()"
   ]
  },
  {
   "cell_type": "markdown",
   "metadata": {},
   "source": [
    "*After removing the row with age of -1, it is checked again to confirm if it was implemented"
   ]
  },
  {
   "cell_type": "markdown",
   "metadata": {},
   "source": [
    "*Checking through the dataset, it is now time for us to move on to the next step of the project, exploring the data which we shall see shortly."
   ]
  },
  {
   "cell_type": "markdown",
   "metadata": {},
   "source": [
    "<a id='eda'></a>\n",
    "## Exploratory Data Analysis\n",
    "\n",
    "### Research Question 1 (What factors are important for us to know in order to predict if a patient will show for their scheduled appointment)."
   ]
  },
  {
   "cell_type": "markdown",
   "metadata": {},
   "source": [
    "### Research Question 2  (What factors were responsible for patients missing their appointment?)."
   ]
  },
  {
   "cell_type": "code",
   "execution_count": 15,
   "metadata": {
    "scrolled": true
   },
   "outputs": [
    {
     "data": {
      "text/plain": [
       "array([[<AxesSubplot:title={'center':'Age'}>,\n",
       "        <AxesSubplot:title={'center':'Scholarship'}>],\n",
       "       [<AxesSubplot:title={'center':'Hypertension'}>,\n",
       "        <AxesSubplot:title={'center':'Diabetes'}>],\n",
       "       [<AxesSubplot:title={'center':'Alcoholism'}>,\n",
       "        <AxesSubplot:title={'center':'SMS_received'}>]], dtype=object)"
      ]
     },
     "execution_count": 15,
     "metadata": {},
     "output_type": "execute_result"
    },
    {
     "data": {
      "image/png": "[encoded data removed]",
      "text/plain": [
       "<Figure size 1440x720 with 6 Axes>"
      ]
     },
     "metadata": {
      "needs_background": "light"
     },
     "output_type": "display_data"
    }
   ],
   "source": [
    "df.hist(figsize=(20, 10))"
   ]
  },
  {
   "cell_type": "markdown",
   "metadata": {},
   "source": [
    "*From the above graphs, we can say the following:\n",
    "\n",
    "Age: The age of the population set is skewed to the right, meaning we have more of the population below 60 years of age.\n",
    "\n",
    "Scholarship: Almost 100,000 patients did not have the health insurance while less than 20,000 patients were registered in the scheme.\n",
    "\n",
    "Hypertension: More than 80,000 patients did not have hypertension while more than 20,000 patients were hypertensive.\n",
    "\n",
    "Diabetes: More than 100,000 patients were not diabetic while less than 20,000 patients were diabetic.\n",
    "\n",
    "Alcoholism: More than 100,000 patients were not alcoholics while less than 20,000 patients were alcoholics.\n",
    "\n",
    "SMS_received: More than 60,000 patients did not receive SMS while close to 40,000 patients received SMS. "
   ]
  },
  {
   "cell_type": "code",
   "execution_count": 16,
   "metadata": {},
   "outputs": [
    {
     "data": {
      "text/plain": [
       "No     88207\n",
       "Yes    22319\n",
       "Name: No-show, dtype: int64"
      ]
     },
     "execution_count": 16,
     "metadata": {},
     "output_type": "execute_result"
    }
   ],
   "source": [
    "#Get the number of those who showed up for their appointments and those who didn't.\n",
    "df['No-show'].value_counts()"
   ]
  },
  {
   "cell_type": "code",
   "execution_count": 17,
   "metadata": {},
   "outputs": [
    {
     "data": {
      "text/plain": [
       "No     79.806561\n",
       "Yes    20.193439\n",
       "Name: No-show, dtype: float64"
      ]
     },
     "execution_count": 17,
     "metadata": {},
     "output_type": "execute_result"
    }
   ],
   "source": [
    "#Get the percentage of those who missed their appointments and those who didn't\n",
    "df['No-show'].value_counts(normalize=True) * 100"
   ]
  },
  {
   "cell_type": "code",
   "execution_count": 18,
   "metadata": {},
   "outputs": [],
   "source": [
    "#Mask up the hospital appointment attendance\n",
    "Showedup = df['No-show'] == 'No'\n",
    "Noshow = df['No-show'] == 'Yes'"
   ]
  },
  {
   "cell_type": "markdown",
   "metadata": {},
   "source": [
    "*No show: 88207 patients making up 79.81% of the population showed up for their appointment while 22319 making up 20.19% did not show up for their appointment.*"
   ]
  },
  {
   "cell_type": "markdown",
   "metadata": {},
   "source": [
    "###Question 1: Factors in order to predict if a patient will show up for their appointment###\n",
    "\n",
    "###Question 2: Factors responsible for patients missing their appointment.###\n"
   ]
  },
  {
   "cell_type": "markdown",
   "metadata": {},
   "source": [
    "**Is the gender of the patient a predicator for showing up for their appointment?**\n",
    "**Is gender responsible for patients missing their appointment?**"
   ]
  },
  {
   "cell_type": "code",
   "execution_count": 19,
   "metadata": {
    "scrolled": true
   },
   "outputs": [
    {
     "data": {
      "text/plain": [
       "(F    71839\n",
       " M    38687\n",
       " Name: Gender, dtype: int64,\n",
       " F    64.997376\n",
       " M    35.002624\n",
       " Name: Gender, dtype: float64)"
      ]
     },
     "execution_count": 19,
     "metadata": {},
     "output_type": "execute_result"
    }
   ],
   "source": [
    "#Get the number and percentage of males and females in the dataset.\n",
    "df['Gender'].value_counts(), df['Gender'].value_counts(normalize=True) * 100"
   ]
  },
  {
   "cell_type": "code",
   "execution_count": 20,
   "metadata": {},
   "outputs": [
    {
     "data": {
      "text/plain": [
       "(Gender  No-show\n",
       " F       No         57245\n",
       "         Yes        14594\n",
       " M       No         30962\n",
       "         Yes         7725\n",
       " Name: No-show, dtype: int64,\n",
       " Gender  No-show\n",
       " F       No         79.685129\n",
       "         Yes        20.314871\n",
       " M       No         80.032052\n",
       "         Yes        19.967948\n",
       " Name: No-show, dtype: float64)"
      ]
     },
     "execution_count": 20,
     "metadata": {},
     "output_type": "execute_result"
    }
   ],
   "source": [
    "#Get the number and percentage of males and females who showed up and didn't show up for their appointments.\n",
    "df.groupby(['Gender'])['No-show'].value_counts(), df.groupby(['Gender'])['No-show'].value_counts(normalize=True) * 100"
   ]
  },
  {
   "cell_type": "code",
   "execution_count": 21,
   "metadata": {},
   "outputs": [
    {
     "data": {
      "image/png": "[encoded data removed]",
      "text/plain": [
       "<Figure size 432x288 with 1 Axes>"
      ]
     },
     "metadata": {
      "needs_background": "light"
     },
     "output_type": "display_data"
    }
   ],
   "source": [
    "#Plot a graph representing gender and who showed up and didn't show up for their appointments\n",
    "def Hist_plot_attendance(Gender, Showedup, Noshow):\n",
    "    df.Gender[Noshow].hist(alpha=0.5, label='Noshow')\n",
    "    df.Gender[Showedup].hist(alpha=0.5, label='Showedup')\n",
    "    plt.ylabel('No of patients appointment')\n",
    "    plt.xlabel('Gender')\n",
    "    plt.title('Patient appointment vs Gender')\n",
    "    plt.legend();\n",
    "\n",
    "Hist_plot_attendance(df.Gender, Showedup, Noshow)"
   ]
  },
  {
   "cell_type": "markdown",
   "metadata": {},
   "source": [
    "*For the gender, 71839 (65.00%) are females while 38687 (35.00%) are males. 79.69% of the females showed up for their appointment while 20.31% did not show up and 80.00% of the males showed up for their appointment and 20.00% did not show up.*\n",
    "\n",
    "*Above is the graphical representation of No-show Vs the Gender*\n",
    "From the graph we can see that more females showed up for their appointment when compared with the males. \n",
    "\n",
    "*This is because we had a higher female population in the dataset when compared to the males. But when further analysis is done the males had a slightly higher percentage of showing up for their appointment."
   ]
  },
  {
   "cell_type": "markdown",
   "metadata": {},
   "source": [
    "**Is the age of the patient a predicator for showing up for their appointment?**\n",
    "**Is the age responsible for patients missing their appointment?**"
   ]
  },
  {
   "cell_type": "code",
   "execution_count": 22,
   "metadata": {
    "scrolled": true
   },
   "outputs": [
    {
     "data": {
      "text/plain": [
       "(0      3539\n",
       " 1      2273\n",
       " 52     1746\n",
       " 49     1652\n",
       " 53     1651\n",
       "        ... \n",
       " 98        6\n",
       " 115       5\n",
       " 100       4\n",
       " 102       2\n",
       " 99        1\n",
       " Name: Age, Length: 103, dtype: int64,\n",
       " 0      3.201962\n",
       " 1      2.056530\n",
       " 52     1.579719\n",
       " 49     1.494671\n",
       " 53     1.493766\n",
       "          ...   \n",
       " 98     0.005429\n",
       " 115    0.004524\n",
       " 100    0.003619\n",
       " 102    0.001810\n",
       " 99     0.000905\n",
       " Name: Age, Length: 103, dtype: float64)"
      ]
     },
     "execution_count": 22,
     "metadata": {},
     "output_type": "execute_result"
    }
   ],
   "source": [
    "#Get the number and percentage of Ages in the dataset.\n",
    "df['Age'].value_counts(), df['Age'].value_counts(normalize=True) * 100"
   ]
  },
  {
   "cell_type": "code",
   "execution_count": 23,
   "metadata": {},
   "outputs": [
    {
     "data": {
      "text/plain": [
       "(Age  No-show\n",
       " 0    No         2900\n",
       "      Yes         639\n",
       " 1    No         1858\n",
       "      Yes         415\n",
       " 2    No         1366\n",
       "                 ... \n",
       " 99   No            1\n",
       " 100  No            4\n",
       " 102  No            2\n",
       " 115  Yes           3\n",
       "      No            2\n",
       " Name: No-show, Length: 203, dtype: int64,\n",
       " Age  No-show\n",
       " 0    No          81.944052\n",
       "      Yes         18.055948\n",
       " 1    No          81.742191\n",
       "      Yes         18.257809\n",
       " 2    No          84.425216\n",
       "                    ...    \n",
       " 99   No         100.000000\n",
       " 100  No         100.000000\n",
       " 102  No         100.000000\n",
       " 115  Yes         60.000000\n",
       "      No          40.000000\n",
       " Name: No-show, Length: 203, dtype: float64)"
      ]
     },
     "execution_count": 23,
     "metadata": {},
     "output_type": "execute_result"
    }
   ],
   "source": [
    "#Get the number and percentage of Ages who showed up and didn't show up for their appointments.\n",
    "df.groupby(['Age'])['No-show'].value_counts(), df.groupby(['Age'])['No-show'].value_counts(normalize=True) * 100"
   ]
  },
  {
   "cell_type": "code",
   "execution_count": 24,
   "metadata": {},
   "outputs": [
    {
     "data": {
      "image/png": "[encoded data removed]",
      "text/plain": [
       "<Figure size 432x288 with 1 Axes>"
      ]
     },
     "metadata": {
      "needs_background": "light"
     },
     "output_type": "display_data"
    }
   ],
   "source": [
    "#Plot the graph of age against the number of patient visitation\n",
    "def Hist_plot_attendance(Age, Showedup, Noshow):\n",
    "    df.Age[Noshow].hist(alpha=0.5, label='Noshow')\n",
    "    df.Age[Showedup].hist(alpha=0.5, label='Showedup')\n",
    "    plt.ylabel('No of patients appointment')\n",
    "    plt.xlabel('Age')\n",
    "    plt.title('Patient appointment vs Age')\n",
    "    plt.legend();\n",
    "\n",
    "Hist_plot_attendance(df.Age, Showedup, Noshow)"
   ]
  },
  {
   "cell_type": "markdown",
   "metadata": {},
   "source": [
    "*The graph is skewed to the right with the younger population having a higher attendance, we can see the highest hospital visitation in babies below a year and the least in patients of 96 years. This implies that parents do well to take their children for their appointment.*\n",
    "From the graph, children below the age of 2 showed up the highest for their appointment, this could be as a result of having the highest population. "
   ]
  },
  {
   "cell_type": "markdown",
   "metadata": {},
   "source": [
    "**Is having a scholarship a predicator for showing up for their appointment?**\n",
    "**Is having a scholarship responsible for patients missing their appointment?**"
   ]
  },
  {
   "cell_type": "code",
   "execution_count": 25,
   "metadata": {},
   "outputs": [
    {
     "data": {
      "text/plain": [
       "(0    99665\n",
       " 1    10861\n",
       " Name: Scholarship, dtype: int64,\n",
       " 0    90.173353\n",
       " 1     9.826647\n",
       " Name: Scholarship, dtype: float64)"
      ]
     },
     "execution_count": 25,
     "metadata": {},
     "output_type": "execute_result"
    }
   ],
   "source": [
    "#Get the number and percentage of those who have and didn't have scholarships.\n",
    "df['Scholarship'].value_counts(), df['Scholarship'].value_counts(normalize=True) * 100"
   ]
  },
  {
   "cell_type": "code",
   "execution_count": 26,
   "metadata": {},
   "outputs": [
    {
     "data": {
      "text/plain": [
       "(Scholarship  No-show\n",
       " 0            No         79924\n",
       "              Yes        19741\n",
       " 1            No          8283\n",
       "              Yes         2578\n",
       " Name: No-show, dtype: int64,\n",
       " Scholarship  No-show\n",
       " 0            No         80.192645\n",
       "              Yes        19.807355\n",
       " 1            No         76.263696\n",
       "              Yes        23.736304\n",
       " Name: No-show, dtype: float64)"
      ]
     },
     "execution_count": 26,
     "metadata": {},
     "output_type": "execute_result"
    }
   ],
   "source": [
    "#Get the number and percentage of those who have and didn't have scholarships and showed up and didn't show up for their appointments.\n",
    "df.groupby(['Scholarship'])['No-show'].value_counts(), df.groupby(['Scholarship'])['No-show'].value_counts(normalize=True) * 100"
   ]
  },
  {
   "cell_type": "code",
   "execution_count": 27,
   "metadata": {},
   "outputs": [
    {
     "data": {
      "image/png": "[encoded data removed]",
      "text/plain": [
       "<Figure size 432x288 with 1 Axes>"
      ]
     },
     "metadata": {
      "needs_background": "light"
     },
     "output_type": "display_data"
    }
   ],
   "source": [
    "#Plot a graph representing those who got an SMS and didn't and who showed up and didn't show up for their appointments\n",
    "def Hist_plot_attendance(Scholarship, Showedup, Noshow):\n",
    "    df.Scholarship[Noshow].hist(alpha=0.5, label='Noshow')\n",
    "    df.Scholarship[Showedup].hist(alpha=0.5, label='Showedup')\n",
    "    plt.ylabel('No of patients appointment')\n",
    "    plt.xlabel('Scholarship')\n",
    "    plt.title('Patient appointment vs Scholarship')\n",
    "    plt.legend();\n",
    "\n",
    "Hist_plot_attendance(df.Scholarship, Showedup, Noshow)"
   ]
  },
  {
   "cell_type": "markdown",
   "metadata": {},
   "source": [
    "*99665 (90.17%) are not on the scholarship while 10861 (9.83%) are not on the scholarship. 80.19% of those who didn't have the scholarship showed up for their appointment while the other 19.81% did not show up and 76.26% of those who had the scholarship showed up for their appointment and the other 23.74% didn't show up for their appointment.\n",
    "Therefore not having a scholarship made the patients not to miss their appointments while having one made them not to show up for their appointment.\n",
    "\n",
    "*Above is the graphical representation of No-show Vs Scholarship*\n"
   ]
  },
  {
   "cell_type": "markdown",
   "metadata": {},
   "source": [
    "**Is sending an SMS to the patient a predicator for showing up for their appointment?**\n",
    "**Is sending an SMS to the patient responsible for patients missing their appointment?**"
   ]
  },
  {
   "cell_type": "code",
   "execution_count": 28,
   "metadata": {
    "scrolled": true
   },
   "outputs": [
    {
     "data": {
      "text/plain": [
       "(0    75044\n",
       " 1    35482\n",
       " Name: SMS_received, dtype: int64,\n",
       " 0    67.897146\n",
       " 1    32.102854\n",
       " Name: SMS_received, dtype: float64)"
      ]
     },
     "execution_count": 28,
     "metadata": {},
     "output_type": "execute_result"
    }
   ],
   "source": [
    "#Get the number and percentage of those who have and didn't have scholarships.\n",
    "df['SMS_received'].value_counts(), df['SMS_received'].value_counts(normalize=True) * 100"
   ]
  },
  {
   "cell_type": "code",
   "execution_count": 29,
   "metadata": {},
   "outputs": [
    {
     "data": {
      "text/plain": [
       "(SMS_received  No-show\n",
       " 0             No         62509\n",
       "               Yes        12535\n",
       " 1             No         25698\n",
       "               Yes         9784\n",
       " Name: No-show, dtype: int64,\n",
       " SMS_received  No-show\n",
       " 0             No         83.296466\n",
       "               Yes        16.703534\n",
       " 1             No         72.425455\n",
       "               Yes        27.574545\n",
       " Name: No-show, dtype: float64)"
      ]
     },
     "execution_count": 29,
     "metadata": {},
     "output_type": "execute_result"
    }
   ],
   "source": [
    "#Get the number and percentage of those who have and didn't have scholarships and showed up and didn't show up for their appointments.\n",
    "df.groupby(['SMS_received'])['No-show'].value_counts(), df.groupby(['SMS_received'])['No-show'].value_counts(normalize=True) * 100"
   ]
  },
  {
   "cell_type": "code",
   "execution_count": 30,
   "metadata": {},
   "outputs": [
    {
     "data": {
      "image/png": "[encoded data removed]",
      "text/plain": [
       "<Figure size 432x288 with 1 Axes>"
      ]
     },
     "metadata": {
      "needs_background": "light"
     },
     "output_type": "display_data"
    }
   ],
   "source": [
    "#Plot a graph representing those who got an SMS and didn't and who showed up and didn't show up for their appointments\n",
    "def Hist_plot_attendance(SMS_received, Showedup, Noshow):\n",
    "    df.SMS_received[Noshow].hist(alpha=0.5, label='Noshow')\n",
    "    df.SMS_received[Showedup].hist(alpha=0.5, label='Showedup')\n",
    "    plt.ylabel('No of patients appointment')\n",
    "    plt.xlabel('SMS_received')\n",
    "    plt.title('Patient appointment vs SMS_received')\n",
    "    plt.legend();\n",
    "\n",
    "Hist_plot_attendance(df.SMS_received, Showedup, Noshow)\n"
   ]
  },
  {
   "cell_type": "markdown",
   "metadata": {},
   "source": [
    "*75044(67.90%) did not receive a message while 35482(32.10%) did not. 83.30% of those who received a message showed up for their appointment while the other 16.70% didn't show up for their appointment. 72.43% of those who got messages for their appointment showed up while the other 27.57% did not show up.*\n",
    "\n",
    "*Above is a graph of the No-show Vs SMS_received."
   ]
  },
  {
   "cell_type": "markdown",
   "metadata": {},
   "source": [
    "**Does having a scholarship and sending patient an SMS a predicator for showing up for their appointment?**\n",
    "**Does having a scholarship and sending patient an SMS responsible for patients missing their appointment?**"
   ]
  },
  {
   "cell_type": "code",
   "execution_count": 31,
   "metadata": {},
   "outputs": [
    {
     "data": {
      "text/plain": [
       "Scholarship  SMS_received  No-show\n",
       "0            0             No         83.540657\n",
       "                           Yes        16.459343\n",
       "             1             No         73.105670\n",
       "                           Yes        26.894330\n",
       "1            0             No         81.049483\n",
       "                           Yes        18.950517\n",
       "             1             No         66.219686\n",
       "                           Yes        33.780314\n",
       "Name: No-show, dtype: float64"
      ]
     },
     "execution_count": 31,
     "metadata": {},
     "output_type": "execute_result"
    }
   ],
   "source": [
    "df.groupby(['Scholarship', 'SMS_received'])['No-show'].value_counts(normalize=True) * 100"
   ]
  },
  {
   "cell_type": "markdown",
   "metadata": {},
   "source": [
    "*From the above analysis, those who did not have a scholarship and did not receive an SMS had the highest hospital visitation of 83.54% while those who had both scholarship and received an SMS had the least hospital visitation of 66.21%.*"
   ]
  },
  {
   "cell_type": "markdown",
   "metadata": {},
   "source": [
    "**Is the being hypertensive a predicator for showing up for their appointment?**\n",
    "**Is the being hypertensive responsible for patients missing their appointment?**"
   ]
  },
  {
   "cell_type": "code",
   "execution_count": 32,
   "metadata": {
    "scrolled": false
   },
   "outputs": [
    {
     "data": {
      "text/plain": [
       "(0    88725\n",
       " 1    21801\n",
       " Name: Hypertension, dtype: int64,\n",
       " 0    80.275229\n",
       " 1    19.724771\n",
       " Name: Hypertension, dtype: float64)"
      ]
     },
     "execution_count": 32,
     "metadata": {},
     "output_type": "execute_result"
    }
   ],
   "source": [
    "#Get the number and percentage of those who were and weren't hypertensive.\n",
    "df['Hypertension'].value_counts(), df['Hypertension'].value_counts(normalize=True) * 100"
   ]
  },
  {
   "cell_type": "code",
   "execution_count": 33,
   "metadata": {
    "scrolled": true
   },
   "outputs": [
    {
     "data": {
      "text/plain": [
       "(Hypertension  No-show\n",
       " 0             No         70178\n",
       "               Yes        18547\n",
       " 1             No         18029\n",
       "               Yes         3772\n",
       " Name: No-show, dtype: int64,\n",
       " Hypertension  No-show\n",
       " 0             No         79.096083\n",
       "               Yes        20.903917\n",
       " 1             No         82.698041\n",
       "               Yes        17.301959\n",
       " Name: No-show, dtype: float64)"
      ]
     },
     "execution_count": 33,
     "metadata": {},
     "output_type": "execute_result"
    }
   ],
   "source": [
    "#Get the number and percentage of those who have and didn't have hypertension and showed up and didn't show up for their appointments.\n",
    "df.groupby(['Hypertension'])['No-show'].value_counts(), df.groupby(['Hypertension'])['No-show'].value_counts(normalize=True) * 100"
   ]
  },
  {
   "cell_type": "code",
   "execution_count": 34,
   "metadata": {
    "scrolled": true
   },
   "outputs": [
    {
     "data": {
      "image/png": "[encoded data removed]",
      "text/plain": [
       "<Figure size 432x288 with 1 Axes>"
      ]
     },
     "metadata": {
      "needs_background": "light"
     },
     "output_type": "display_data"
    }
   ],
   "source": [
    "#Plot a graph representing those who are hypertensive and are not and didn't and who showed up and didn't show up for their appointments\n",
    "def Hist_plot_attendance(Hypertension, Showedup, Noshow):\n",
    "    df.Hypertension[Noshow].hist(alpha=0.5, label='Noshow')\n",
    "    df.Hypertension[Showedup].hist(alpha=0.5, label='Showedup')\n",
    "    plt.ylabel('No of patients appointment')\n",
    "    plt.xlabel('Hypertension')\n",
    "    plt.title('Patient appointment vs Hypertension')\n",
    "    plt.legend();\n",
    "\n",
    "Hist_plot_attendance(df.Hypertension, Showedup, Noshow)\n"
   ]
  },
  {
   "cell_type": "markdown",
   "metadata": {},
   "source": [
    "*88725 (80.28%) are hypertensive while 21801 (19.72%) are not. 79.10% of those who are not hypertensive showed up for their appointment while the other 20.90% didn't show up for their appointment. 82.70% of those who were hypertensive showed up for their appointment while the other 17.30% did not show up.*\n",
    "\n",
    "Therefore those who were hypertensive are more likely to show up for their appointment.\n",
    "\n",
    "*Above is the graphical representation of No-show Vs Hypertension*"
   ]
  },
  {
   "cell_type": "markdown",
   "metadata": {},
   "source": [
    "**Is being diabetic a predicator for patients showing up for their appointment?**\n",
    "**Is being diabetic responsible for patients missing their appointment?**"
   ]
  },
  {
   "cell_type": "code",
   "execution_count": 35,
   "metadata": {
    "scrolled": true
   },
   "outputs": [
    {
     "data": {
      "text/plain": [
       "(0    102583\n",
       " 1      7943\n",
       " Name: Diabetes, dtype: int64,\n",
       " 0    92.813456\n",
       " 1     7.186544\n",
       " Name: Diabetes, dtype: float64)"
      ]
     },
     "execution_count": 35,
     "metadata": {},
     "output_type": "execute_result"
    }
   ],
   "source": [
    "#Get the number and percentage of those who were and weren't diabetic.\n",
    "df['Diabetes'].value_counts(), df['Diabetes'].value_counts(normalize=True) * 100"
   ]
  },
  {
   "cell_type": "code",
   "execution_count": 36,
   "metadata": {},
   "outputs": [
    {
     "data": {
      "text/plain": [
       "(Diabetes  No-show\n",
       " 0         No         81694\n",
       "           Yes        20889\n",
       " 1         No          6513\n",
       "           Yes         1430\n",
       " Name: No-show, dtype: int64,\n",
       " Diabetes  No-show\n",
       " 0         No         79.636977\n",
       "           Yes        20.363023\n",
       " 1         No         81.996727\n",
       "           Yes        18.003273\n",
       " Name: No-show, dtype: float64)"
      ]
     },
     "execution_count": 36,
     "metadata": {},
     "output_type": "execute_result"
    }
   ],
   "source": [
    "#Get the number and percentage of those who have and didn't have diabetes and showed up and didn't show up for their appointments.\n",
    "df.groupby(['Diabetes'])['No-show'].value_counts(), df.groupby(['Diabetes'])['No-show'].value_counts(normalize=True) * 100"
   ]
  },
  {
   "cell_type": "code",
   "execution_count": 37,
   "metadata": {},
   "outputs": [
    {
     "data": {
      "image/png": "[encoded data removed]",
      "text/plain": [
       "<Figure size 432x288 with 1 Axes>"
      ]
     },
     "metadata": {
      "needs_background": "light"
     },
     "output_type": "display_data"
    }
   ],
   "source": [
    "#Plot a graph representing those who are diabetic and are not and who showed up and didn't show up for their appointments\n",
    "\n",
    "def Hist_plot_attendance(Diabetes, Showedup, Noshow):\n",
    "    df.Diabetes[Noshow].hist(alpha=0.5, label='Noshow')\n",
    "    df.Diabetes[Showedup].hist(alpha=0.5, label='Showedup')\n",
    "    plt.ylabel('No of patients appointment')\n",
    "    plt.xlabel('Diabetes')\n",
    "    plt.title('Patient appointment vs Diabetes')\n",
    "    plt.legend();\n",
    "\n",
    "Hist_plot_attendance(df.Diabetes, Showedup, Noshow)\n"
   ]
  },
  {
   "cell_type": "markdown",
   "metadata": {},
   "source": [
    "*102583(92.81%) are diabetic while 7943(7.19%) are not. 79.64% of those who are not diabetic showed up for their appointment while the other 20.36% didn't show up for their appointment. 82.00% of those who were diabetic showed up for their appointment while the other 18.00% did not show up.*\n",
    "\n",
    "Therefore those with diabetes are more likely to show up for their hospital appointment.\n",
    "\n",
    "*Above is the graphical representation of No-show Vs Diabetes*"
   ]
  },
  {
   "cell_type": "markdown",
   "metadata": {},
   "source": [
    "**Does having a health challenge a predicator for showing up for their appointment?**\n",
    "**Does having a health challenge responsible for patients missing their appointment?**"
   ]
  },
  {
   "cell_type": "code",
   "execution_count": 38,
   "metadata": {
    "scrolled": false
   },
   "outputs": [
    {
     "data": {
      "text/plain": [
       "Hypertension  Diabetes  No-show\n",
       "0             0         No         79.078242\n",
       "                        Yes        20.921758\n",
       "              1         No         80.164722\n",
       "                        Yes        19.835278\n",
       "1             0         No         82.820764\n",
       "                        Yes        17.179236\n",
       "              1         No         82.408264\n",
       "                        Yes        17.591736\n",
       "Name: No-show, dtype: float64"
      ]
     },
     "execution_count": 38,
     "metadata": {},
     "output_type": "execute_result"
    }
   ],
   "source": [
    "df.groupby(['Hypertension', 'Diabetes'])['No-show'].value_counts(normalize=True) * 100"
   ]
  },
  {
   "cell_type": "markdown",
   "metadata": {},
   "source": [
    "*From the above results, we can see that those who had hypertension and were not diabetic had the highest percentage (82.82) of hospital appointment. Patients with both diabetes and hypertension had the second highest percentage (82.40) of showing up for their hospital appointment. \n",
    "\n",
    "*While those who were neither hypertensive or diabetic had the highest percentage (20.92) of not showing up for their hospital appointment.\n",
    "\n"
   ]
  },
  {
   "cell_type": "markdown",
   "metadata": {},
   "source": [
    "<a id='conclusions'></a>\n",
    "## Conclusions\n",
    "\n",
    "> **Summary of Results**\n",
    "\n",
    "*The above dataset was made up 110527 entries or hospital appointments  and 14 columns or features. There were 62299 Patient Ids and 110527 entries indicating that some patients had more than one hospital appointments. There were also 81 neighbourhoods in this dataset and no null entry.\n",
    "\n",
    "*In analysis, No show was the dependent variable while Age, Gender, Scholarship (Bolsa Familia Program), SMS received, Hypertension and Diabetes were the independent variable. The other columns were dropped. 1 row with age of -1 was also dropped resulting in 110526 entries.\n",
    "\n",
    "*Of the 110526 entries, 88207(79.81%) of the population showed up for their appointment while 22319(20.19%) did not show up for their appointment.\n",
    "\n",
    "***Research Question 1 (What factors are important for us to know in order to predict if a patient will show for their scheduled appointment).\n",
    "\n",
    "*For the gender, 71839 (65.00%) are females while 38687 (35.00%) are males. 79.69% of the females showed up for their appointment while 20.31% did not show up and 80.00% of the males showed up for their appointment and 20.00% did not show up.\n",
    "\n",
    "*Although there is a slight difference in the percentage of men and women who showed up for their appointment, the men were more. Indicating that more men showed up for their appointment. But from the graph, it indicates that more women showed up for their appointment. This is because females are more likely to visit the hospital because maternal health is essential in any population as they are to bring to life children who would stabilise the population of any nation.\n",
    "\n",
    "*The graph is skewed to the right with the younger population having a higher attendance, we can see the highest hospital visitation in babies below a year and the least in patients of 96 years. *\n",
    "\n",
    "*From the graph, children below the age of 2 showed up the highest for their appointment, this could be as a result of having the highest population and having their parents especially their mothers are available to take them to the hospital.\n",
    "\n",
    "*This is because we had a higher female population in the dataset when compared to the males. But when further analysis is done the males had a slightly higher percentage of showing up for their appointment.\n",
    "\n",
    "*99665 (90.17%) are not on the scholarship while 10861 (9.83%) are not on the scholarship. 80.19% of those who didn't have the scholarship showed up for their appointment while 76.26% of those who had the scholarship showed up for their appointment. Therefore not having a scholarship made the patients not to miss their appointments.\n",
    "\n",
    "*75044(67.90%) did not receive a message while 35482(32.10%) did not. 83.30% of those who did not receive a message showed up for their appointment while the other 16.70% didn't show up for their appointment. 72.43% of those who got messages for their appointment showed up while the other 27.57% did not show up. This implies that more people who did not receive an SMS showed up for their appointment.\n",
    "\n",
    "*Those who did not have a scholarship and did not receive an SMS showed up the highest for their hospital appointment with 83.54%.\n",
    "\n",
    "*82.70% of those who were hypertensive showed up for their appointment when compare with those were not as non-hypertensives who showed up for their appointment were 79.10%.\n",
    "\n",
    "*Those who had hypertension and were not diabetic had the highest percentage (82.82) of hospital appointment. Patients with both diabetes and hypertension had the second highest percentage (82.40) of showing up for their hospital appointment. Therefore those who were hypertensive are more likely to show up for their appointment.\n",
    "\n",
    "*102583(92.81%) are diabetic while 7943(7.19%) are not. 79.64% of those who are not diabetic showed up for their appointment while 82.00% of those who are diabetic showed up for their hospital appointment.Therefore those with diabetes are more likely to show up for their hospital appointment.\n",
    "\n",
    "**In conclusion:** *Those who were younger, who did not have scholarship or sent an SMS have a higher tendency to show up for their hospital appointment. Also, those with chronic disease, hypertension and diabetes are also more likely to show up for their hospital appointment.\n",
    "\n",
    "***Research Question 2 (What factors were responsible for patients missing their appointment?).***\n",
    "*The older population had a lower number of hospital visitation, this is as a result of them having a lower population. \n",
    "\n",
    "*Those who were not on scholarship and did not show up were 19.81% did not show up while those who had the scholarship and didn’t show up for their appointment were 23.74%. while having scholarship made them not to show up for their appointment. Those who had scholarship and were sent a message had the highest percentage (33.78) of not showing up for their appointment.\n",
    "\n",
    "*20.90% of those who are not hypertensive didn't show up for their appointment. while the other 17.30% hypertensives did not show up.*\n",
    "the other 20.36% didn't show up for their appointment. 82.00% of those who were diabetic showed up for their appointment while the other 18.00% did not show up.*\n",
    "\n",
    "*While those who were neither hypertensive or diabetic had the highest percentage (20.92) of not showing up for their hospital appointment.\n",
    "\n",
    "***In conclusion:*** *Those who were older and having a scholarship without any health challenge are likely not to show up for their hospital appointment.\n",
    "\n",
    "***Limitations of this analysis.***\n",
    "\n",
    "*1)\tThe scheduled day and appointment day columns were not used in this analysis, this would have given a clearer picture as to more reasons why patients showed up and did not show up for their appointment.\n",
    "\n",
    "*2)\tNeighbourhood column was not used in this analysis as it would have shown us how location would play a role in patients showing up for their appointment.\n",
    "\n",
    "*3)\tAlso, alcoholism and handicap columns were not used for the analysis which would have thrown more light into how these would have affected the patients showing up for their appointment.\n",
    "\n",
    "*4)\tAlso, further data analysis can be done like regression to determine the strength of the relationship between these variables. \n"
   ]
  },
  {
   "cell_type": "code",
   "execution_count": 39,
   "metadata": {},
   "outputs": [
    {
     "data": {
      "text/plain": [
       "1"
      ]
     },
     "execution_count": 39,
     "metadata": {},
     "output_type": "execute_result"
    }
   ],
   "source": [
    "from subprocess import call\n",
    "call(['python', '-m', 'nbconvert', 'Investigate a Dataset(No-Show Appointment).ipynb'])"
   ]
  }
 ],
 "metadata": {
  "kernelspec": {
   "display_name": "Python 3 (ipykernel)",
   "language": "python",
   "name": "python3"
  },
  "language_info": {
   "codemirror_mode": {
    "name": "ipython",
    "version": 3
   },
   "file_extension": ".py",
   "mimetype": "text/x-python",
   "name": "python",
   "nbconvert_exporter": "python",
   "pygments_lexer": "ipython3",
   "version": "3.9.7"
  }
 },
 "nbformat": 4,
 "nbformat_minor": 2
}
